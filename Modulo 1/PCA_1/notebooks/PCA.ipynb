{
  "cells": [
    {
      "cell_type": "markdown",
      "metadata": {
        "pycharm": {
          "metadata": false
        }
      },
      "source": [
        "# PCA Example\n",
        "## Hans Araya\n"
      ]
    },
    {
      "cell_type": "code",
      "execution_count": 1,
      "metadata": {
        "pycharm": {
          "is_executing": false,
          "metadata": false,
          "name": "#%%\n"
        }
      },
      "outputs": [
        {
          "name": "stdout",
          "text": [
            "\nMATRIZ DE COV:\n [[ 1.00671141 -0.11010327  0.87760486  0.82344326]\n [-0.11010327  1.00671141 -0.42333835 -0.358937  ]\n [ 0.87760486 -0.42333835  1.00671141  0.96921855]\n [ 0.82344326 -0.358937    0.96921855  1.00671141]]\n",
            "Number of optimal dimensions with 95.000000%: 2\n"
          ],
          "output_type": "stream"
        },
        {
          "data": {
            "text/plain": "\u003cFigure size 600x400 with 1 Axes\u003e"
          },
          "metadata": {},
          "output_type": "display_data"
        },
        {
          "data": {
            "text/plain": "\u003cFigure size 1600x800 with 1 Axes\u003e"
          },
          "metadata": {},
          "output_type": "display_data"
        }
      ],
      "source": [
        "# Import all modules in directory\n",
        "import sys\n",
        "sys.path.append(\u0027..\u0027)\n",
        "    \n",
        "from utils.data_utils import get_data_from_url\n",
        "from utils.pca_utils import get_pca_data_matrix\n",
        "from utils.plot_utils import plotData\n",
        "\n",
        "url \u003d \"../data/iris.data\"\n",
        "data_labels \u003d [\u0027lng sepalo\u0027,\u0027anch sepalo\u0027,\u0027lng petalo\u0027,\u0027anch petalo\u0027,\u0027especie\u0027]\n",
        "\n",
        "X, y \u003d get_data_from_url(url, data_labels)\n",
        "optimal_data_matrix \u003d get_pca_data_matrix(X, optimal_value_percentage \u003d .95)\n",
        "\n",
        "# Plot optimal data\n",
        "y_labels \u003d (\u0027Iris-setosa\u0027, \u0027Iris-versicolor\u0027, \u0027Iris-virginica\u0027)\n",
        "plot_colors \u003d (\u0027magenta\u0027, \u0027cyan\u0027, \u0027limegreen\u0027)\n",
        "plotData(optimal_data_matrix, y, y_labels, plot_colors)\n",
        "\n",
        "\n"
      ]
    },
    {
      "cell_type": "code",
      "execution_count": null,
      "metadata": {
        "pycharm": {}
      },
      "outputs": [],
      "source": []
    },
    {
      "cell_type": "code",
      "execution_count": null,
      "metadata": {
        "pycharm": {}
      },
      "outputs": [],
      "source": []
    },
    {
      "cell_type": "code",
      "execution_count": null,
      "metadata": {
        "pycharm": {}
      },
      "outputs": [],
      "source": []
    },
    {
      "cell_type": "code",
      "execution_count": null,
      "metadata": {
        "pycharm": {}
      },
      "outputs": [],
      "source": []
    },
    {
      "cell_type": "code",
      "execution_count": null,
      "metadata": {
        "pycharm": {}
      },
      "outputs": [],
      "source": []
    },
    {
      "cell_type": "code",
      "execution_count": null,
      "metadata": {
        "pycharm": {}
      },
      "outputs": [],
      "source": []
    }
  ],
  "metadata": {
    "kernelspec": {
      "display_name": "Python 3",
      "language": "python",
      "name": "python3"
    },
    "language_info": {
      "codemirror_mode": {
        "name": "ipython",
        "version": 3
      },
      "file_extension": ".py",
      "mimetype": "text/x-python",
      "name": "python",
      "nbconvert_exporter": "python",
      "pygments_lexer": "ipython3",
      "version": "3.7.5"
    },
    "stem_cell": {
      "cell_type": "raw",
      "metadata": {
        "pycharm": {
          "metadata": false
        }
      },
      "source": ""
    }
  },
  "nbformat": 4,
  "nbformat_minor": 1
}